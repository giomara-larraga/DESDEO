{
 "cells": [
  {
   "cell_type": "code",
   "execution_count": 37,
   "id": "5a4cbab8-719e-476c-8f42-bc1376bd2842",
   "metadata": {},
   "outputs": [],
   "source": [
    "from desdeo.problem.testproblems.river_pollution_problem import river_pollution_problem\n",
    "from desdeo.explanations import ShapExplainer\n",
    "from desdeo.explanations.utils import generate_biased_mean_data\n",
    "from desdeo.emo.methods.EAs import nsga3\n",
    "from desdeo.emo.hooks.archivers import NonDominatedArchive\n",
    "\n",
    "# These are to just suppress warnings in the outputs of the example\n",
    "import warnings\n",
    "\n",
    "warnings.filterwarnings(\"ignore\")\n",
    "problem = river_pollution_problem()"
   ]
  },
  {
   "cell_type": "code",
   "execution_count": 38,
   "id": "9a661bec",
   "metadata": {},
   "outputs": [],
   "source": [
    "from desdeo.tools import payoff_table_method\n",
    "\n",
    "ideal, nadir = payoff_table_method(problem)"
   ]
  },
  {
   "cell_type": "markdown",
   "id": "58b9af2c",
   "metadata": {},
   "source": [
    "We can then update our problem with the new ideal and nadir point values:"
   ]
  },
  {
   "cell_type": "code",
   "execution_count": 39,
   "id": "29975611",
   "metadata": {},
   "outputs": [],
   "source": [
    "problem = problem.update_ideal_and_nadir(new_ideal=ideal, new_nadir=nadir)"
   ]
  },
  {
   "cell_type": "code",
   "execution_count": 40,
   "id": "318cd3e0",
   "metadata": {},
   "outputs": [
    {
     "name": "stdout",
     "output_type": "stream",
     "text": [
      "Ideal values: {'f_1': 6.34, 'f_2': 3.4448717948717897, 'f_3': 7.500000000000001, 'f_4': 0.0, 'f_5': 0.0}\n",
      "Nadir values: {'f_1': 4.751, 'f_2': 2.8666051480818924, 'f_3': 0.32111111111111956, 'f_4': -9.706666666666656, 'f_5': 0.35000000000000003} (approximations!)\n"
     ]
    }
   ],
   "source": [
    "print(f\"Ideal values: {problem.get_ideal_point()}\")\n",
    "print(f\"Nadir values: {problem.get_nadir_point()} (approximations!)\")"
   ]
  },
  {
   "cell_type": "code",
   "execution_count": null,
   "id": "182c2e70",
   "metadata": {},
   "outputs": [
    {
     "name": "stdout",
     "output_type": "stream",
     "text": [
      "shape: (126, 10)\n",
      "┌──────────┬──────────┬──────────┬───────────┬───┬───────────┬───────────┬──────────┬──────────┐\n",
      "│ f_1      ┆ f_2      ┆ f_3      ┆ f_4       ┆ … ┆ f_2_min   ┆ f_3_min   ┆ f_4_min  ┆ f_5_min  │\n",
      "│ ---      ┆ ---      ┆ ---      ┆ ---       ┆   ┆ ---       ┆ ---       ┆ ---      ┆ ---      │\n",
      "│ f64      ┆ f64      ┆ f64      ┆ f64       ┆   ┆ f64       ┆ f64       ┆ f64      ┆ f64      │\n",
      "╞══════════╪══════════╪══════════╪═══════════╪═══╪═══════════╪═══════════╪══════════╪══════════╡\n",
      "│ 6.256848 ┆ 3.439781 ┆ 3.825123 ┆ -9.706667 ┆ … ┆ -3.439781 ┆ -3.825123 ┆ 9.706667 ┆ 0.35     │\n",
      "│ 6.126238 ┆ 3.334946 ┆ 5.575188 ┆ -5.560279 ┆ … ┆ -3.334946 ┆ -5.575188 ┆ 5.560279 ┆ 0.320962 │\n",
      "│ 6.34     ┆ 3.352477 ┆ 0.321111 ┆ -5.758548 ┆ … ┆ -3.352477 ┆ -0.321111 ┆ 5.758548 ┆ 0.35     │\n",
      "│ 6.03859  ┆ 3.37553  ┆ 6.108965 ┆ -7.034325 ┆ … ┆ -3.37553  ┆ -6.108965 ┆ 7.034325 ┆ 0.334843 │\n",
      "│ 6.250509 ┆ 2.888591 ┆ 3.965929 ┆ -0.007347 ┆ … ┆ -2.888591 ┆ -3.965929 ┆ 0.007347 ┆ 0.337598 │\n",
      "│ …        ┆ …        ┆ …        ┆ …         ┆ … ┆ …         ┆ …         ┆ …        ┆ …        │\n",
      "│ 6.069805 ┆ 3.358995 ┆ 5.948059 ┆ -6.390136 ┆ … ┆ -3.358995 ┆ -5.948059 ┆ 6.390136 ┆ 0.329485 │\n",
      "│ 6.050668 ┆ 3.414326 ┆ 6.049791 ┆ -8.760474 ┆ … ┆ -3.414326 ┆ -6.049791 ┆ 8.760474 ┆ 0.34561  │\n",
      "│ 5.525393 ┆ 2.955033 ┆ 7.164247 ┆ -0.494341 ┆ … ┆ -2.955033 ┆ -7.164247 ┆ 0.494341 ┆ 0.008858 │\n",
      "│ 4.752172 ┆ 3.23518  ┆ 7.49978  ┆ -3.832119 ┆ … ┆ -3.23518  ┆ -7.49978  ┆ 3.832119 ┆ 0.349484 │\n",
      "│ 6.186209 ┆ 3.05393  ┆ 4.995999 ┆ -1.094366 ┆ … ┆ -3.05393  ┆ -4.995999 ┆ 1.094366 ┆ 0.282251 │\n",
      "└──────────┴──────────┴──────────┴───────────┴───┴───────────┴───────────┴──────────┴──────────┘\n"
     ]
    }
   ],
   "source": [
    "from desdeo.mcdm.reference_point_method import rpm_solve_solutions\n",
    "\n",
    "solver, publisher = nsga3(problem=problem, reference_vector_options={  # This argument can be used to change how reference vectors are generated.\n",
    "    \"number_of_vectors\": 200,\n",
    "})\n",
    "\n",
    "results = solver()\n",
    "\n",
    "print(results.outputs)  # Contains the objective values, target values (values that are minimized), and constraints, and extra functions.\n"
   ]
  },
  {
   "cell_type": "code",
   "execution_count": null,
   "id": "2a688327",
   "metadata": {},
   "outputs": [],
   "source": [
    "#problem_data = generate_biased_mean_data(data, target_means, min_size, max_size)\n",
    "symbols = problem.get_all_symbols()\n",
    "num_vars =len(problem.variables)\n",
    "\n",
    "input_symbols = symbols[0:num_vars]\n",
    "output_symbols = symbols[num_vars:]\n",
    "\n",
    "problem_data = results.solutions.hstack(results.outputs[output_symbols])\n",
    "explainer = ShapExplainer(problem_data, input_symbols, output_symbols)\n",
    "\n"
   ]
  }
 ],
 "metadata": {
  "kernelspec": {
   "display_name": "venv",
   "language": "python",
   "name": "python3"
  },
  "language_info": {
   "codemirror_mode": {
    "name": "ipython",
    "version": 3
   },
   "file_extension": ".py",
   "mimetype": "text/x-python",
   "name": "python",
   "nbconvert_exporter": "python",
   "pygments_lexer": "ipython3",
   "version": "3.12.4"
  }
 },
 "nbformat": 4,
 "nbformat_minor": 5
}

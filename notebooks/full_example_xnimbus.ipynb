{
 "cells": [
  {
   "cell_type": "code",
   "execution_count": 9,
   "id": "5a4cbab8-719e-476c-8f42-bc1376bd2842",
   "metadata": {},
   "outputs": [],
   "source": [
    "from desdeo.problem.testproblems import river_pollution_problem\n",
    "# These are to just suppress warnings in the outputs of the example\n",
    "import warnings\n",
    "\n",
    "warnings.filterwarnings(\"ignore\")\n",
    "problem = river_pollution_problem(five_objective_variant=False)"
   ]
  },
  {
   "cell_type": "code",
   "execution_count": 10,
   "id": "9a661bec",
   "metadata": {},
   "outputs": [],
   "source": [
    "from desdeo.tools import payoff_table_method\n",
    "\n",
    "ideal, nadir = payoff_table_method(problem)\n"
   ]
  },
  {
   "cell_type": "markdown",
   "id": "58b9af2c",
   "metadata": {},
   "source": [
    "We can then update our problem with the new ideal and nadir point values:"
   ]
  },
  {
   "cell_type": "code",
   "execution_count": 11,
   "id": "29975611",
   "metadata": {},
   "outputs": [],
   "source": [
    "problem = problem.update_ideal_and_nadir(new_ideal=ideal, new_nadir=nadir)"
   ]
  },
  {
   "cell_type": "code",
   "execution_count": 17,
   "id": "318cd3e0",
   "metadata": {},
   "outputs": [
    {
     "name": "stdout",
     "output_type": "stream",
     "text": [
      "Ideal values: {'f_1': 6.34, 'f_2': 3.444871794145378, 'f_3': 7.499999999424789, 'f_4': -7.777537502917653e-10}\n",
      "Nadir values: {'f_1': 4.751000003065099, 'f_2': 2.853461538677661, 'f_3': 0.32111111111111956, 'f_4': -9.706666666666656} (approximations!)\n"
     ]
    }
   ],
   "source": [
    "print(f\"Ideal values: {problem.get_ideal_point()}\")\n",
    "print(f\"Nadir values: {problem.get_nadir_point()} (approximations!)\")"
   ]
  },
  {
   "cell_type": "code",
   "execution_count": 13,
   "id": "182c2e70",
   "metadata": {},
   "outputs": [
    {
     "name": "stdout",
     "output_type": "stream",
     "text": [
      "Initial solution\n",
      "Objective function values \t\t {'f_1': 6.1845874743608675, 'f_2': 3.2401736085979516, 'f_3': 5.015256464668139, 'f_4': -3.3596540750850012}\n",
      "Decision variable values \t\t {'x_1': 0.9315363323175626, 'x_2': 0.9315363556304466, '_alpha': 0.34611816779179755}\n",
      "Constraint values \t\t\t {'f_1_con': -0.2483129896081999, 'f_2_con': 9.119700272730569e-09, 'f_3_con': -9.474522516539352e-08, 'f_4_con': 4.782887197407604e-09}\n",
      "Constraint duals \t\t\t {'mu_f_1_con': -9.38200144344176e-09, 'mu_f_2_con': -0.5044267426480922, 'mu_f_3_con': -0.02247565987009285, 'mu_f_4_con': -0.47309758809981356}\n"
     ]
    }
   ],
   "source": [
    "from desdeo.mcdm.x_nimbus import generate_starting_point, solve_sub_problems\n",
    "\n",
    "initial_solution = generate_starting_point(problem=problem)\n",
    "\n",
    "print(f\"Initial solution\")\n",
    "print(f\"Objective function values \\t\\t {initial_solution.optimal_objectives}\")\n",
    "print(f\"Decision variable values \\t\\t {initial_solution.optimal_variables}\")\n",
    "print(f\"Constraint values \\t\\t\\t {initial_solution.constraint_values}\")\n",
    "print(f\"Constraint duals \\t\\t\\t {initial_solution.constraint_duals}\")\n"
   ]
  },
  {
   "cell_type": "markdown",
   "id": "d28713c0",
   "metadata": {},
   "source": [
    "Iteration 1"
   ]
  },
  {
   "cell_type": "code",
   "execution_count": 14,
   "id": "b129546b",
   "metadata": {},
   "outputs": [],
   "source": [
    "reference_point = {\"f_1\": 6.30, \"f_2\": 3.20, \"f_3\":7.2, \"f_4\":-8}\n",
    "\n",
    "results = solve_sub_problems(problem=problem, current_objectives=initial_solution.optimal_objectives, reference_point=reference_point, num_desired=4)"
   ]
  },
  {
   "cell_type": "code",
   "execution_count": 15,
   "id": "0ec2802f",
   "metadata": {},
   "outputs": [
    {
     "name": "stdout",
     "output_type": "stream",
     "text": [
      "Solution 1:\n",
      "Objective function values \t\t {'f_1': 6.184587454641521, 'f_2': 3.2333222296200046, 'f_3': 5.015256697321892, 'f_4': -3.2416549030515194}\n",
      "Decision variable values \t\t {'x_1': 0.931536323630626, 'x_2': 0.9281802619678562, '_alpha': 0.30432884232356067}\n",
      "Constraint values \t\t\t {'f_1_lte': -0.2316967007571909, 'f_1_eq': 1.9719346155966377e-08, 'f_2_gte': -0.03332222962000442, 'f_3_lte': 7.494096510018977e-09, 'f_3_eq': -2.3265375315162373e-07, 'f_4_gte': -4.758345096948481}\n",
      "Constraint duals \t\t\t {'mu_f_1_lte': -1.0815422030659643e-08, 'mu_f_1_eq': -1.755286648876494, 'mu_f_2_gte': -7.85609308603339e-08, 'mu_f_3_lte': -0.999999989184578, 'mu_f_3_eq': -0.009477813641720984, 'mu_f_4_gte': -5.263545075668224e-10}\n",
      "---\n",
      "Solution 2:\n",
      "Objective function values \t\t {'f_1': 6.104499090753148, 'f_2': 3.4328330628239287, 'f_3': 5.733775114566674, 'f_4': -9.6870210244379}\n",
      "Decision variable values \t\t {'x_1': 0.8962551060586555, 'x_2': 0.9999169635709249, '_alpha': 5.887399983933323}\n",
      "Constraint values \t\t\t {'f_1_maxcon': 5.622243026692786e-07, 'f_2_maxcon': -5.838232695409219, 'f_3_maxcon': 1.8882043484325095e-08, 'f_4_maxcon': -4.676522382217784}\n",
      "Constraint duals \t\t\t {'mu_f_1_maxcon': -0.4762470179825465, 'mu_f_2_maxcon': -4.291979609729542e-10, 'mu_f_3_maxcon': -0.5237529810524352, 'mu_f_4_maxcon': -5.358204616843387e-10}\n",
      "---\n",
      "Solution 3:\n",
      "Objective function values \t\t {'f_1': 6.048177083754961, 'f_2': 3.2213756255210195, 'f_3': 6.06229842594314, 'f_4': -3.127292725932609}\n",
      "Decision variable values \t\t {'x_1': 0.87144364923126, 'x_2': 0.924730071090512, '_alpha': 0.15847875616138585}\n",
      "Constraint values \t\t\t {'f_1_con': 9.258391608923944e-09, 'f_2_con': -0.19462217636754078, 'f_3_con': 4.727382735270069e-09, 'f_4_con': -0.6604746461815029}\n",
      "Constraint duals \t\t\t {'mu_f_1_con': -0.5247325041426414, 'mu_f_2_con': -1.3088820890874781e-08, 'mu_f_3_con': -0.47526747897388544, 'mu_f_4_con': -3.794652329110008e-09}\n",
      "---\n",
      "Solution 4:\n",
      "Objective function values \t\t {'f_1': 6.046114694415238, 'f_2': 3.14611986791925, 'f_3': 6.072531426023403, 'f_4': -2.0729057763499807}\n",
      "Decision variable values \t\t {'x_1': 0.870535107671911, 'x_2': 0.8794724941541069, '_alpha': -0.8360972898828855}\n",
      "Constraint values \t\t\t {'f_1_con': 5.239334410767071e-09, 'f_2_con': -0.00842175174051274, 'f_3_con': 6.177335309942578e-09, 'f_4_con': -3.6368094817870693}\n",
      "Constraint duals \t\t\t {'mu_f_1_con': -0.5263767375998292, 'mu_f_2_con': -2.966925296369317e-07, 'mu_f_3_con': -0.4736229650187388, 'mu_f_4_con': -6.889024392292222e-10}\n",
      "---\n"
     ]
    }
   ],
   "source": [
    "for i, result in enumerate(results):\n",
    "    print(f\"Solution {i+1}:\")\n",
    "    print(f\"Objective function values \\t\\t {result.optimal_objectives}\")\n",
    "    print(f\"Decision variable values \\t\\t {result.optimal_variables}\")\n",
    "    print(f\"Constraint values \\t\\t\\t {result.constraint_values}\")\n",
    "    print(f\"Constraint duals \\t\\t\\t {result.constraint_duals}\")\n",
    "    print(\"---\")"
   ]
  },
  {
   "cell_type": "code",
   "execution_count": 16,
   "id": "5e856a7f",
   "metadata": {},
   "outputs": [
    {
     "name": "stdout",
     "output_type": "stream",
     "text": [
      "Solution 1:\n",
      "Objective function values \t\t {'f_1': 6.119999981898425, 'f_2': 3.3834909312170627, 'f_3': 5.622912102656281, 'f_4': -7.238566901610445}\n",
      "Decision variable values \t\t {'x_1': 0.9030836924662662, 'x_2': 0.9863601598993255, '_alpha': 0.08038678020175233}\n",
      "Constraint values \t\t\t {'f_1_gte': 1.8101575349760424e-08, 'f_2_lte': -0.0017459556436268259, 'f_2_eq': -0.14331732261911112, 'f_3_lte': 7.494092624238391e-09, 'f_3_eq': -0.6076556379881426, 'f_4_gte': -2.441433098389555}\n",
      "Constraint duals \t\t\t {'mu_f_1_gte': -1.044812445444648, 'mu_f_2_lte': -1.5030646384798657e-06, 'mu_f_2_eq': -1.7615993838504905e-08, 'mu_f_3_lte': -0.9999984969353616, 'mu_f_3_eq': -4.12386233914458e-09, 'mu_f_4_gte': -1.03139899458712e-09}\n",
      "---\n",
      "Solution 2:\n",
      "Objective function values \t\t {'f_1': 6.0736679388675014, 'f_2': 3.431711112847458, 'f_3': 5.926220793650711, 'f_4': -9.684613587136973}\n",
      "Decision variable values \t\t {'x_1': 0.8826731008226876, 'x_2': 0.9999067664753811, '_alpha': 1.2105992225218327}\n",
      "Constraint values \t\t\t {'f_1_maxcon': 9.808352219309313e-08, 'f_2_maxcon': -0.32564908004908244, 'f_3_maxcon': 5.071398412326289e-09, 'f_4_maxcon': -0.21012261232960827}\n",
      "Constraint duals \t\t\t {'mu_f_1_maxcon': -0.491558906180388, 'mu_f_2_maxcon': -7.732925332925628e-09, 'mu_f_3_maxcon': -0.5084410741607146, 'mu_f_4_maxcon': -1.1925972171074405e-08}\n",
      "---\n"
     ]
    }
   ],
   "source": [
    "\n",
    "current_solution = results[1].optimal_objectives\n",
    "reference_point = {\"f_1\": 6.12, \"f_2\": 3.43, \"f_3\":6.2, \"f_4\":-9.68}\n",
    "\n",
    "results = solve_sub_problems(problem=problem, current_objectives=initial_solution.optimal_objectives, reference_point=reference_point, num_desired=2)\n",
    "for i, result in enumerate(results):\n",
    "    print(f\"Solution {i+1}:\")\n",
    "    print(f\"Objective function values \\t\\t {result.optimal_objectives}\")\n",
    "    print(f\"Decision variable values \\t\\t {result.optimal_variables}\")\n",
    "    print(f\"Constraint values \\t\\t\\t {result.constraint_values}\")\n",
    "    print(f\"Constraint duals \\t\\t\\t {result.constraint_duals}\")\n",
    "\n",
    "    print(\"---\")"
   ]
  }
 ],
 "metadata": {
  "kernelspec": {
   "display_name": "venv_desdeo2",
   "language": "python",
   "name": "python3"
  },
  "language_info": {
   "codemirror_mode": {
    "name": "ipython",
    "version": 3
   },
   "file_extension": ".py",
   "mimetype": "text/x-python",
   "name": "python",
   "nbconvert_exporter": "python",
   "pygments_lexer": "ipython3",
   "version": "3.12.4"
  }
 },
 "nbformat": 4,
 "nbformat_minor": 5
}

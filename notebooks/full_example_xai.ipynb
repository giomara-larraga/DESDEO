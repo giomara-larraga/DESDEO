{
 "cells": [
  {
   "cell_type": "code",
   "execution_count": 1,
   "id": "5a4cbab8-719e-476c-8f42-bc1376bd2842",
   "metadata": {},
   "outputs": [],
   "source": [
    "from desdeo.problem.testproblems import river_pollution_problem\n",
    "# These are to just suppress warnings in the outputs of the example\n",
    "import warnings\n",
    "\n",
    "warnings.filterwarnings(\"ignore\")\n",
    "problem = river_pollution_problem(five_objective_variant=False)"
   ]
  },
  {
   "cell_type": "code",
   "execution_count": 2,
   "id": "9a661bec",
   "metadata": {},
   "outputs": [],
   "source": [
    "from desdeo.tools import payoff_table_method\n",
    "\n",
    "ideal, nadir = payoff_table_method(problem)"
   ]
  },
  {
   "cell_type": "markdown",
   "id": "58b9af2c",
   "metadata": {},
   "source": [
    "We can then update our problem with the new ideal and nadir point values:"
   ]
  },
  {
   "cell_type": "code",
   "execution_count": 3,
   "id": "29975611",
   "metadata": {},
   "outputs": [],
   "source": [
    "problem = problem.update_ideal_and_nadir(new_ideal=ideal, new_nadir=nadir)"
   ]
  },
  {
   "cell_type": "code",
   "execution_count": 4,
   "id": "318cd3e0",
   "metadata": {},
   "outputs": [
    {
     "name": "stdout",
     "output_type": "stream",
     "text": [
      "Ideal values: {'f_1': 6.34, 'f_2': 3.444871794145378, 'f_3': 7.499999999424789, 'f_4': -7.777537502917653e-10}\n",
      "Nadir values: {'f_1': 4.751000003065099, 'f_2': 2.853461538677661, 'f_3': 0.32111111111111956, 'f_4': -9.706666666666656} (approximations!)\n"
     ]
    }
   ],
   "source": [
    "print(f\"Ideal values: {problem.get_ideal_point()}\")\n",
    "print(f\"Nadir values: {problem.get_nadir_point()} (approximations!)\")"
   ]
  },
  {
   "cell_type": "code",
   "execution_count": 5,
   "id": "182c2e70",
   "metadata": {},
   "outputs": [],
   "source": [
    "from desdeo.mcdm.x_reference_point_method import x_rpm_solve_solutions\n",
    "\n",
    "reference_point = {\"f_1\": 6.30, \"f_2\": 3.20, \"f_3\":7.2, \"f_4\":-8}\n",
    "\n",
    "results = x_rpm_solve_solutions(problem, reference_point=reference_point)"
   ]
  },
  {
   "cell_type": "code",
   "execution_count": 6,
   "id": "0ec2802f",
   "metadata": {},
   "outputs": [
    {
     "name": "stdout",
     "output_type": "stream",
     "text": [
      "Solution 1:\n",
      "Objective function values \t\t {'f_1': 6.048177083754961, 'f_2': 3.2213756255210195, 'f_3': 6.06229842594314, 'f_4': -3.127292725932609}\n",
      "Decision variable values \t\t {'x_1': 0.87144364923126, 'x_2': 0.924730071090512, '_alpha': 0.15847875616138585}\n",
      "Constraint values \t\t\t {'f_1_con': 9.258391608923944e-09, 'f_2_con': -0.19462217636754078, 'f_3_con': 4.727382735270069e-09, 'f_4_con': -0.6604746461815029}\n",
      "Constraint duals \t\t\t {'mu_f_1_con': -0.5247325041426414, 'mu_f_2_con': -1.3088820890874781e-08, 'mu_f_3_con': -0.47526747897388544, 'mu_f_4_con': -3.794652329110008e-09}\n",
      "---\n",
      "Solution 2:\n",
      "Objective function values \t\t {'f_1': 6.34, 'f_2': 3.2329278437508897, 'f_3': 0.32111111111111956, 'f_4': -3.0931702846450033}\n",
      "Decision variable values \t\t {'x_1': 1.0, 'x_2': 0.9236603094124306, '_alpha': 3.127840016064941}\n",
      "Constraint values \t\t\t {'f_1_con': 5.4837964391651894e-08, 'f_2_con': -3.183516744308553, 'f_3_con': -2.1696293461831186, 'f_4_con': -3.633351267119568}\n",
      "Constraint duals \t\t\t {'mu_f_1_con': -0.9999999973682395, 'mu_f_2_con': -7.871247904983579e-10, 'mu_f_3_con': -1.1549665920092557e-09, 'mu_f_4_con': -6.896690331690767e-10}\n",
      "---\n",
      "Solution 3:\n",
      "Objective function values \t\t {'f_1': 6.34, 'f_2': 3.444871794871795, 'f_3': 0.32111111111111956, 'f_4': -9.706666666666656}\n",
      "Decision variable values \t\t {'x_1': 1.0, 'x_2': 1.0, '_alpha': 8.05745419793825}\n",
      "Constraint values \t\t\t {'f_1_con': -8.08262724696538, 'f_2_con': 1.5719952273229865e-07, 'f_3_con': -7.099243528056428, 'f_4_con': -7.88163004021374}\n",
      "Constraint duals \t\t\t {'mu_f_1_con': -3.0989469551118726e-10, 'mu_f_2_con': -0.9999999990126435, 'mu_f_3_con': -3.5918165750295095e-10, 'mu_f_4_con': -3.1828023591479576e-10}\n",
      "---\n",
      "Solution 4:\n",
      "Objective function values \t\t {'f_1': 5.225458989530448, 'f_2': 3.202096244736644, 'f_3': 7.355511043794939, 'f_4': -3.104522112890413}\n",
      "Decision variable values \t\t {'x_1': 0.5090127707182592, 'x_2': 0.9240183285699127, '_alpha': 0.6762368514751235}\n",
      "Constraint values \t\t\t {'f_1_con': -1.3019839872896455e-08, 'f_2_con': -0.6797813304096441, 'f_3_con': 7.238288413091709e-09, 'f_4_con': -1.1805786148501318}\n",
      "Constraint duals \t\t\t {'mu_f_1_con': -0.0926266247668351, 'mu_f_2_con': -3.6889132958600206e-09, 'mu_f_3_con': -0.9073733694114731, 'mu_f_4_con': -2.1327785229245527e-09}\n",
      "---\n",
      "Solution 5:\n",
      "Objective function values \t\t {'f_1': 6.048177083754961, 'f_2': 3.218517262728728, 'f_3': 6.06229842594314, 'f_4': -3.0806451498476877}\n",
      "Decision variable values \t\t {'x_1': 0.87144364923126, 'x_2': 0.9232627891537093, '_alpha': 0.158478756161386}\n",
      "Constraint values \t\t\t {'f_1_con': 9.258391470146066e-09, 'f_2_con': -0.18978905429577542, 'f_3_con': 4.727382596492191e-09, 'f_4_con': -0.14912578932557088}\n",
      "Constraint duals \t\t\t {'mu_f_1_con': -0.5247324972576385, 'mu_f_2_con': -1.3198441653319335e-08, 'mu_f_3_con': -0.4752674727465878, 'mu_f_4_con': -1.6797331976682918e-08}\n",
      "---\n"
     ]
    }
   ],
   "source": [
    "for i, result in enumerate(results):\n",
    "    print(f\"Solution {i+1}:\")\n",
    "    print(f\"Objective function values \\t\\t {result.optimal_objectives}\")\n",
    "    print(f\"Decision variable values \\t\\t {result.optimal_variables}\")\n",
    "    print(f\"Constraint values \\t\\t\\t {result.constraint_values}\")\n",
    "    print(f\"Constraint duals \\t\\t\\t {result.constraint_duals}\")\n",
    "    print(\"---\")"
   ]
  },
  {
   "cell_type": "code",
   "execution_count": 7,
   "id": "5e856a7f",
   "metadata": {},
   "outputs": [
    {
     "ename": "NameError",
     "evalue": "name 'rpm_solve_solutions' is not defined",
     "output_type": "error",
     "traceback": [
      "\u001b[1;31m---------------------------------------------------------------------------\u001b[0m",
      "\u001b[1;31mNameError\u001b[0m                                 Traceback (most recent call last)",
      "Cell \u001b[1;32mIn[7], line 3\u001b[0m\n\u001b[0;32m      1\u001b[0m reference_point \u001b[38;5;241m=\u001b[39m {\u001b[38;5;124m\"\u001b[39m\u001b[38;5;124mf_1\u001b[39m\u001b[38;5;124m\"\u001b[39m: \u001b[38;5;241m5.2\u001b[39m, \u001b[38;5;124m\"\u001b[39m\u001b[38;5;124mf_2\u001b[39m\u001b[38;5;124m\"\u001b[39m: \u001b[38;5;241m3.2\u001b[39m, \u001b[38;5;124m\"\u001b[39m\u001b[38;5;124mf_3\u001b[39m\u001b[38;5;124m\"\u001b[39m:\u001b[38;5;241m7.4\u001b[39m, \u001b[38;5;124m\"\u001b[39m\u001b[38;5;124mf_4\u001b[39m\u001b[38;5;124m\"\u001b[39m:\u001b[38;5;241m-\u001b[39m\u001b[38;5;241m3.10\u001b[39m}\n\u001b[1;32m----> 3\u001b[0m results \u001b[38;5;241m=\u001b[39m \u001b[43mrpm_solve_solutions\u001b[49m(problem, reference_point\u001b[38;5;241m=\u001b[39mreference_point)\n\u001b[0;32m      5\u001b[0m \u001b[38;5;28;01mfor\u001b[39;00m i, result \u001b[38;5;129;01min\u001b[39;00m \u001b[38;5;28menumerate\u001b[39m(results):\n\u001b[0;32m      6\u001b[0m     \u001b[38;5;28mprint\u001b[39m(\u001b[38;5;124mf\u001b[39m\u001b[38;5;124m\"\u001b[39m\u001b[38;5;124mSolution \u001b[39m\u001b[38;5;132;01m{\u001b[39;00mi\u001b[38;5;241m+\u001b[39m\u001b[38;5;241m1\u001b[39m\u001b[38;5;132;01m}\u001b[39;00m\u001b[38;5;124m:\u001b[39m\u001b[38;5;124m\"\u001b[39m)\n",
      "\u001b[1;31mNameError\u001b[0m: name 'rpm_solve_solutions' is not defined"
     ]
    }
   ],
   "source": [
    "reference_point = {\"f_1\": 5.2, \"f_2\": 3.2, \"f_3\":7.4, \"f_4\":-3.10}\n",
    "\n",
    "results = rpm_solve_solutions(problem, reference_point=reference_point)\n",
    "\n",
    "for i, result in enumerate(results):\n",
    "    print(f\"Solution {i+1}:\")\n",
    "    print(f\"Objective function values \\t\\t {result.optimal_objectives}\")\n",
    "    print(f\"Decision variable values \\t\\t {result.optimal_variables}\")\n",
    "    print(f\"Constraint values \\t\\t\\t {result.constraint_values}\")\n",
    "    print(\"---\")"
   ]
  }
 ],
 "metadata": {
  "kernelspec": {
   "display_name": "venv_desdeo2",
   "language": "python",
   "name": "python3"
  },
  "language_info": {
   "codemirror_mode": {
    "name": "ipython",
    "version": 3
   },
   "file_extension": ".py",
   "mimetype": "text/x-python",
   "name": "python",
   "nbconvert_exporter": "python",
   "pygments_lexer": "ipython3",
   "version": "3.12.4"
  }
 },
 "nbformat": 4,
 "nbformat_minor": 5
}

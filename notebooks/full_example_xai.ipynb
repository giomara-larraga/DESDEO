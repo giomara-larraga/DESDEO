{
 "cells": [
  {
   "cell_type": "code",
   "execution_count": 1,
   "id": "5a4cbab8-719e-476c-8f42-bc1376bd2842",
   "metadata": {},
   "outputs": [],
   "source": [
    "from desdeo.problem.testproblems import river_pollution_problem\n",
    "# These are to just suppress warnings in the outputs of the example\n",
    "import warnings\n",
    "\n",
    "warnings.filterwarnings(\"ignore\")\n",
    "problem = river_pollution_problem(five_objective_variant=False)"
   ]
  },
  {
   "cell_type": "code",
   "execution_count": 2,
   "id": "9a661bec",
   "metadata": {},
   "outputs": [],
   "source": [
    "from desdeo.tools import payoff_table_method\n",
    "\n",
    "ideal, nadir = payoff_table_method(problem)"
   ]
  },
  {
   "cell_type": "markdown",
   "id": "58b9af2c",
   "metadata": {},
   "source": [
    "We can then update our problem with the new ideal and nadir point values:"
   ]
  },
  {
   "cell_type": "code",
   "execution_count": 3,
   "id": "29975611",
   "metadata": {},
   "outputs": [],
   "source": [
    "problem = problem.update_ideal_and_nadir(new_ideal=ideal, new_nadir=nadir)"
   ]
  },
  {
   "cell_type": "code",
   "execution_count": 4,
   "id": "318cd3e0",
   "metadata": {},
   "outputs": [
    {
     "name": "stdout",
     "output_type": "stream",
     "text": [
      "Ideal values: {'f_1': 6.34, 'f_2': 3.444871794145378, 'f_3': 7.499999999424789, 'f_4': -7.777537502917653e-10}\n",
      "Nadir values: {'f_1': 4.751000003065099, 'f_2': 2.853461538677661, 'f_3': 0.32111111111111956, 'f_4': -9.706666666666656} (approximations!)\n"
     ]
    }
   ],
   "source": [
    "print(f\"Ideal values: {problem.get_ideal_point()}\")\n",
    "print(f\"Nadir values: {problem.get_nadir_point()} (approximations!)\")"
   ]
  },
  {
   "cell_type": "code",
   "execution_count": 5,
   "id": "182c2e70",
   "metadata": {},
   "outputs": [],
   "source": [
    "from desdeo.mcdm.reference_point_method import rpm_solve_solutions\n",
    "\n",
    "reference_point = {\"f_1\": 6.30, \"f_2\": 3.20, \"f_3\":7.2, \"f_4\":-8}\n",
    "\n",
    "results = rpm_solve_solutions(problem, reference_point=reference_point,kkt_multipliers=True)"
   ]
  },
  {
   "cell_type": "code",
   "execution_count": 6,
   "id": "0ec2802f",
   "metadata": {},
   "outputs": [
    {
     "name": "stdout",
     "output_type": "stream",
     "text": [
      "Solution 1:\n",
      "Objective function values \t\t {'f_1': 6.048177083754961, 'f_2': 3.2213756255210195, 'f_3': 6.06229842594314, 'f_4': -3.127292725932609}\n",
      "Decision variable values \t\t {'x_1': 0.87144364923126, 'x_2': 0.924730071090512, '_alpha': 0.15847875616138585}\n",
      "Constraint values \t\t\t {'f_1_con': 9.258391608923944e-09, 'f_2_con': -0.19462217636754078, 'f_3_con': 4.727382735270069e-09, 'f_4_con': -0.6604746461815029}\n",
      "Constraint duals \t\t\t {'mu_f_1_con': -0.5247325041426414, 'mu_f_2_con': -1.3088820890874781e-08, 'mu_f_3_con': -0.47526747897388544, 'mu_f_4_con': -3.794652329110008e-09}\n",
      "---\n",
      "Solution 2:\n",
      "Objective function values \t\t {'f_1': 6.34, 'f_2': 3.2329278437508897, 'f_3': 0.32111111111111956, 'f_4': -3.0931702846450033}\n",
      "Decision variable values \t\t {'x_1': 1.0, 'x_2': 0.9236603094124306, '_alpha': 3.127840016064941}\n",
      "Constraint values \t\t\t {'f_1_con': 5.4837964391651894e-08, 'f_2_con': -3.183516744308553, 'f_3_con': -2.1696293461831186, 'f_4_con': -3.633351267119568}\n",
      "Constraint duals \t\t\t {'mu_f_1_con': -0.9999999973682395, 'mu_f_2_con': -7.871247904983579e-10, 'mu_f_3_con': -1.1549665920092557e-09, 'mu_f_4_con': -6.896690331690767e-10}\n",
      "---\n",
      "Solution 3:\n",
      "Objective function values \t\t {'f_1': 6.34, 'f_2': 3.444871794871795, 'f_3': 0.32111111111111956, 'f_4': -9.706666666666656}\n",
      "Decision variable values \t\t {'x_1': 1.0, 'x_2': 1.0, '_alpha': 8.05745419793825}\n",
      "Constraint values \t\t\t {'f_1_con': -8.08262724696538, 'f_2_con': 1.5719952273229865e-07, 'f_3_con': -7.099243528056428, 'f_4_con': -7.88163004021374}\n",
      "Constraint duals \t\t\t {'mu_f_1_con': -3.0989469551118726e-10, 'mu_f_2_con': -0.9999999990126435, 'mu_f_3_con': -3.5918165750295095e-10, 'mu_f_4_con': -3.1828023591479576e-10}\n",
      "---\n",
      "Solution 4:\n",
      "Objective function values \t\t {'f_1': 5.225458989530448, 'f_2': 3.202096244736644, 'f_3': 7.355511043794939, 'f_4': -3.104522112890413}\n",
      "Decision variable values \t\t {'x_1': 0.5090127707182592, 'x_2': 0.9240183285699127, '_alpha': 0.6762368514751235}\n",
      "Constraint values \t\t\t {'f_1_con': -1.3019839872896455e-08, 'f_2_con': -0.6797813304096441, 'f_3_con': 7.238288413091709e-09, 'f_4_con': -1.1805786148501318}\n",
      "Constraint duals \t\t\t {'mu_f_1_con': -0.0926266247668351, 'mu_f_2_con': -3.6889132958600206e-09, 'mu_f_3_con': -0.9073733694114731, 'mu_f_4_con': -2.1327785229245527e-09}\n",
      "---\n",
      "Solution 5:\n",
      "Objective function values \t\t {'f_1': 6.048177083754961, 'f_2': 3.218517262728728, 'f_3': 6.06229842594314, 'f_4': -3.0806451498476877}\n",
      "Decision variable values \t\t {'x_1': 0.87144364923126, 'x_2': 0.9232627891537093, '_alpha': 0.158478756161386}\n",
      "Constraint values \t\t\t {'f_1_con': 9.258391470146066e-09, 'f_2_con': -0.18978905429577542, 'f_3_con': 4.727382596492191e-09, 'f_4_con': -0.14912578932557088}\n",
      "Constraint duals \t\t\t {'mu_f_1_con': -0.5247324972576385, 'mu_f_2_con': -1.3198441653319335e-08, 'mu_f_3_con': -0.4752674727465878, 'mu_f_4_con': -1.6797331976682918e-08}\n",
      "---\n"
     ]
    }
   ],
   "source": [
    "for i, result in enumerate(results):\n",
    "    print(f\"Solution {i+1}:\")\n",
    "    print(f\"Objective function values \\t\\t {result.optimal_objectives}\")\n",
    "    print(f\"Decision variable values \\t\\t {result.optimal_variables}\")\n",
    "    print(f\"Constraint values \\t\\t\\t {result.constraint_values}\")\n",
    "    print(f\"Constraint duals \\t\\t\\t {result.constraint_duals}\")\n",
    "    print(\"---\")"
   ]
  },
  {
   "cell_type": "code",
   "execution_count": 7,
   "id": "5e856a7f",
   "metadata": {},
   "outputs": [
    {
     "name": "stdout",
     "output_type": "stream",
     "text": [
      "Solution 1:\n",
      "Objective function values \t\t {'f_1': 5.193332304296982, 'f_2': 3.2003674571345044, 'f_3': 7.369876193366449, 'f_4': -3.085077779893605}\n",
      "Decision variable values \t\t {'x_1': 0.49486004594580707, 'x_2': 0.9234037721202496, '_alpha': 0.004196156345532161}\n",
      "Constraint values \t\t\t {'f_1_con': -5.747807941408611e-10, 'f_2_con': -0.004817478870436855, 'f_3_con': 8.674715524029097e-09, 'f_4_con': -0.005733472819118124}\n",
      "---\n",
      "Solution 2:\n",
      "Objective function values \t\t {'f_1': 5.224522252724085, 'f_2': 3.2008636868720566, 'f_3': 7.355942671638755, 'f_4': -3.0847141596038608}\n",
      "Decision variable values \t\t {'x_1': 0.5086001113321957, 'x_2': 0.9233922193614494, '_alpha': 0.00613705878118907}\n",
      "Constraint values \t\t\t {'f_1_con': -5.579789450795014e-09, 'f_2_con': -0.007597441660397812, 'f_3_con': 8.237064700461483e-09, 'f_4_con': -0.007711836132417105}\n",
      "---\n",
      "Solution 3:\n",
      "Objective function values \t\t {'f_1': 5.44981603235093, 'f_2': 3.2198242948568274, 'f_3': 7.224600887101063, 'f_4': -3.337159560868497}\n",
      "Decision variable values \t\t {'x_1': 0.6078484724012906, 'x_2': 0.9309117106835848, '_alpha': 0.02443264000800114}\n",
      "Constraint values \t\t\t {'f_1_con': -0.18164842076132467, 'f_2_con': 5.446295719968575e-09, 'f_3_con': -1.6632001925004358e-08, 'f_4_con': 4.544353466445772e-09}\n",
      "---\n",
      "Solution 4:\n",
      "Objective function values \t\t {'f_1': 5.186406056234816, 'f_2': 3.200508792095398, 'f_3': 7.3728583298682135, 'f_4': -3.0892324227757024}\n",
      "Decision variable values \t\t {'x_1': 0.4918088353457337, 'x_2': 0.9235356137938343, '_alpha': 0.008555034215109093}\n",
      "Constraint values \t\t\t {'f_1_con': -8.893283361469106e-09, 'f_2_con': -0.009415335892991927, 'f_3_con': 8.063936705882124e-09, 'f_4_con': -0.009664331205067553}\n",
      "---\n",
      "Solution 5:\n",
      "Objective function values \t\t {'f_1': 5.193332292000585, 'f_2': 3.1997985063036416, 'f_3': 7.369876198696025, 'f_4': -3.0758531434932754}\n",
      "Decision variable values \t\t {'x_1': 0.4948600405288921, 'x_2': 0.9231100032950218, '_alpha': 0.004196154911475576}\n",
      "Constraint values \t\t\t {'f_1_con': 8.59772077230897e-09, 'f_2_con': -0.003855455111639626, 'f_3_con': 9.366376560633605e-09, 'f_4_con': -0.0031528329166147897}\n",
      "---\n"
     ]
    }
   ],
   "source": [
    "reference_point = {\"f_1\": 5.2, \"f_2\": 3.2, \"f_3\":7.4, \"f_4\":-3.10}\n",
    "\n",
    "results = rpm_solve_solutions(problem, reference_point=reference_point, kkt_multipliers=True)\n",
    "\n",
    "for i, result in enumerate(results):\n",
    "    print(f\"Solution {i+1}:\")\n",
    "    print(f\"Objective function values \\t\\t {result.optimal_objectives}\")\n",
    "    print(f\"Decision variable values \\t\\t {result.optimal_variables}\")\n",
    "    print(f\"Constraint values \\t\\t\\t {result.constraint_values}\")\n",
    "    print(\"---\")"
   ]
  }
 ],
 "metadata": {
  "kernelspec": {
   "display_name": "venv_desdeo2",
   "language": "python",
   "name": "python3"
  },
  "language_info": {
   "codemirror_mode": {
    "name": "ipython",
    "version": 3
   },
   "file_extension": ".py",
   "mimetype": "text/x-python",
   "name": "python",
   "nbconvert_exporter": "python",
   "pygments_lexer": "ipython3",
   "version": "3.12.4"
  }
 },
 "nbformat": 4,
 "nbformat_minor": 5
}
